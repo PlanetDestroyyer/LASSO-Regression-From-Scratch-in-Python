{
 "cells": [
  {
   "cell_type": "markdown",
   "id": "e86eb310",
   "metadata": {},
   "source": [
    "# LASSO REGRESSION"
   ]
  },
  {
   "cell_type": "markdown",
   "id": "a17af879",
   "metadata": {},
   "source": [
    "## Y = wX + b"
   ]
  },
  {
   "cell_type": "markdown",
   "id": "28b53b0e",
   "metadata": {},
   "source": [
    "## Y ----> Dependent Variable"
   ]
  },
  {
   "cell_type": "markdown",
   "id": "ee5d8180",
   "metadata": {},
   "source": [
    "## X ----> Independent Variable"
   ]
  },
  {
   "cell_type": "markdown",
   "id": "c2e23b30",
   "metadata": {},
   "source": [
    "## w ----> Weight"
   ]
  },
  {
   "cell_type": "markdown",
   "id": "8d3cfd76",
   "metadata": {},
   "source": [
    "## b ----> Bais"
   ]
  },
  {
   "cell_type": "markdown",
   "id": "797d2212",
   "metadata": {},
   "source": [
    "# Gradient Descent\n"
   ]
  },
  {
   "cell_type": "markdown",
   "id": "4312248a",
   "metadata": {},
   "source": [
    "Gradint Descnet is an Optimization algorithm used for minimizing the loss function in various machine learning algorithmn . It is used for updating the Parameters of the learning model"
   ]
  },
  {
   "cell_type": "markdown",
   "id": "637d2628",
   "metadata": {},
   "source": [
    "w = w - a * dw"
   ]
  },
  {
   "cell_type": "markdown",
   "id": "0d6b0abb",
   "metadata": {},
   "source": [
    "b = b -a * db"
   ]
  },
  {
   "cell_type": "markdown",
   "id": "bf6fb124",
   "metadata": {},
   "source": [
    "# Learning Rate"
   ]
  },
  {
   "cell_type": "markdown",
   "id": "af753e2b",
   "metadata": {},
   "source": [
    "Learning Rate is a tuning parameters in an Optimization algorithms the step size of each iteration while moving towards a minimum of a loss function"
   ]
  },
  {
   "cell_type": "code",
   "execution_count": 1,
   "id": "a4129509",
   "metadata": {},
   "outputs": [],
   "source": [
    "import numpy as np\n"
   ]
  },
  {
   "cell_type": "code",
   "execution_count": 2,
   "id": "b0864c49",
   "metadata": {},
   "outputs": [],
   "source": [
    "class Lasso_Regression():\n",
    "    \n",
    "    def __init__(self,learning_rate,no_of_iteration,lambda_parameters):\n",
    "        \n",
    "        self.learning_rate = learning_rate\n",
    "        self.no_of_iteration = no_of_iteration\n",
    "        self.lambda_parameters = lambda_parameters\n",
    "        \n",
    "    def fit(self,X,y):\n",
    "        \n",
    "        self.m,self.n = X.shape\n",
    "        \n",
    "        self.w = np.zeros(self.n)\n",
    "        self.b = 0\n",
    "        \n",
    "        self.X = X\n",
    "        self.y = y\n",
    "        \n",
    "        for i in range(self.no_of_iteration):\n",
    "            self.update_weight()\n",
    "        \n",
    "        \n",
    "    \n",
    "    def update_weight(self):\n",
    "        \n",
    "        y_pred = self.predict(self.X)\n",
    "        \n",
    "        dw = np.zeros(self.n)\n",
    "        \n",
    "        for i in range(self.n):\n",
    "            \n",
    "            if self.w[i] > 0:\n",
    "                \n",
    "                dw[i] = (-(2*(self.X[:,i]).dot(self.y - y_pred)) + self.lambda_parameters) / self.m\n",
    "            \n",
    "            else:\n",
    "                dw[i] = (-(2*(self.X[:,i]).dot(self.y - y_pred)) - self.lambda_parameters) / self.m   \n",
    "    \n",
    "        \n",
    "        db = - 2 * np.sum(self.y - y_pred) / self.m\n",
    "        \n",
    "        self.w = self.w - self.learning_rate * dw\n",
    "        self.b = self.b - self.learning_rate * db\n",
    "                         \n",
    "    def predict(self,X):\n",
    "        \n",
    "        return X.dot(self.w) + self.b"
   ]
  }
 ],
 "metadata": {
  "kernelspec": {
   "display_name": "Python 3 (ipykernel)",
   "language": "python",
   "name": "python3"
  },
  "language_info": {
   "codemirror_mode": {
    "name": "ipython",
    "version": 3
   },
   "file_extension": ".py",
   "mimetype": "text/x-python",
   "name": "python",
   "nbconvert_exporter": "python",
   "pygments_lexer": "ipython3",
   "version": "3.11.5"
  }
 },
 "nbformat": 4,
 "nbformat_minor": 5
}
